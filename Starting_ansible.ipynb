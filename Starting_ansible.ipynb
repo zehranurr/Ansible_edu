{
 "cells": [
  {
   "cell_type": "code",
   "execution_count": null,
   "metadata": {
    "vscode": {
     "languageId": "plaintext"
    }
   },
   "outputs": [],
   "source": [
    "Learning From LEARNLINUX TV \n"
   ]
  },
  {
   "cell_type": "markdown",
   "metadata": {},
   "source": [
    "We dont need to install ansible inside servers  which wanna we use."
   ]
  },
  {
   "cell_type": "markdown",
   "metadata": {},
   "source": [
    "## OPEN SSH \n",
    "- We have 3 server name as server1 server2 ,server3 and one labtop as workstation(doesnt matter be laptop or etc.).\n",
    "- We wanna connect with ssh those servers.\n",
    "\n",
    "- Make sure OpenSSh is intalled on the workstation and servers.\n",
    "  - sudo apt install openssh-server \n",
    "- connect to each server from the workstation ,answer \"yes\" to initial connection prompt.\n",
    "\n",
    "- create an shh key pair(with a passphrase) for your normal user account.(ıt makes more secure)\n",
    "- copy that key to each server\n",
    "- create an shh key that s specific to ansible\n",
    "- copy that key to each server\n"
   ]
  },
  {
   "cell_type": "markdown",
   "metadata": {},
   "source": [
    "## For server we get to ip \n",
    "- ip a \n",
    "chech have connect with ssh \n",
    "- ssh ip \n",
    "## SSH key make it harder to get in \n",
    "ls -la .ssh ( to see ssh connection)\n",
    "\n",
    "## Create ssh key\n",
    "shh-keygen -t ed25519 -C \"jay default\"\n",
    "t means type -- more secure key more than default\n",
    "-C means meta data \n",
    "- enter passphrase -- make it more secure\n",
    "\n",
    "\n",
    "\n",
    "\n"
   ]
  },
  {
   "cell_type": "markdown",
   "metadata": {},
   "source": [
    "## How to use this key to connect server \n",
    "\n",
    "-ssh-copy-id -i ~/ssh/id_ed25519.pub ipadress\n",
    "\n",
    "i means input file "
   ]
  },
  {
   "cell_type": "markdown",
   "metadata": {},
   "source": [
    "Create ssh key for ansible\n",
    "- ssh-keygen -t ed25519 -C \"ansible\"\n",
    "- be carefull over writing so change default save file name -/home/jay/.ssh/ansible\n",
    "\n",
    "Do that from wokrstation to server -ip is for server ip \n",
    "- shh-copy-id ~/.ssh/ansible.pub ip\n",
    "\n"
   ]
  },
  {
   "cell_type": "markdown",
   "metadata": {},
   "source": [
    "## More easy to login without pass all the time \n",
    "- eval $(ssh-agent) \n",
    "press 1 time, it will give id exp : Agent pid 2362 \n",
    "- ps aux | grep 2362 \n",
    "to see it s running background\n",
    "\n",
    "- ssh-add \n",
    "to add, after that it will access without asking pass .only enter one time will be enough.\n",
    "\n"
   ]
  },
  {
   "cell_type": "markdown",
   "metadata": {},
   "source": [
    "ssh-agent is a tool used to make SSH connections more secure and convenient. It acts as a background program that stores SSH keys in memory and automatically authorizes SSH connections with these keys.\n",
    "\n",
    "When you connect to a server using SSH, you typically need a private key for authentication. ssh-agent holds these private keys in memory, allowing you to authorize connections without manually entering your passphrase each time. This way, you don’t have to repeatedly input your passphrase or the password for the private key file for each connection.\n",
    "\n",
    "How it works:\n",
    "\n",
    "ssh-agent is started and initiates a session.\n",
    "You add your private key to ssh-agent using the ssh-add command.\n",
    "The SSH client then automatically uses the key stored in ssh-agent for authentication when making a connection.\n",
    "This simplifies secure connections and makes it easier for users to manage multiple SSH sessions without repeatedly entering passwords or passphrases.\n",
    "\n"
   ]
  },
  {
   "cell_type": "markdown",
   "metadata": {},
   "source": [
    "We can do alias for that to make more easy.\n",
    "- alias ssha='eval $(ssh-agent) && ssh-add'\n",
    "You can write that inside .bashrc file\n",
    "Open with \n",
    "- nano .bashrc\n",
    "Write \n",
    "#shh agent  \n",
    "alias ssha='eval $(ssh-agent) && ssh-add'\n",
    "Then save and close"
   ]
  },
  {
   "cell_type": "markdown",
   "metadata": {},
   "source": []
  }
 ],
 "metadata": {
  "language_info": {
   "name": "python"
  }
 },
 "nbformat": 4,
 "nbformat_minor": 2
}
