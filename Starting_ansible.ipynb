{
 "cells": [
  {
   "cell_type": "code",
   "execution_count": null,
   "metadata": {
    "vscode": {
     "languageId": "plaintext"
    }
   },
   "outputs": [],
   "source": [
    "Learning From LEARNLINUX TV \n"
   ]
  },
  {
   "cell_type": "markdown",
   "metadata": {},
   "source": [
    "We dont need to install ansible inside servers  which wanna we use.\n",
    "\n"
   ]
  },
  {
   "cell_type": "markdown",
   "metadata": {},
   "source": [
    "## OPEN SSH \n",
    "- We have 3 server name as server1 server2 ,server3 and one labtop as workstation(doesnt matter be laptop or etc.).\n",
    "- We wanna connect with ssh those servers.\n",
    "\n",
    "- Make sure OpenSSh is intalled on the workstation and servers.\n",
    "  - sudo apt install openssh-server \n",
    "- connect to each server from the workstation ,answer \"yes\" to initial connection prompt.\n",
    "\n",
    "- create an shh key pair(with a passphrase) for your normal user account.(ıt makes more secure)\n",
    "- copy that key to each server\n",
    "- create an shh key that s specific to ansible\n",
    "- copy that key to each server\n"
   ]
  },
  {
   "cell_type": "markdown",
   "metadata": {},
   "source": [
    "## for server we get to ip \n",
    "- ip a \n",
    "chech have connect with ssh \n",
    "- ssh ip \n",
    "## ssh key make it harder to get in \n",
    "ls -la .ssh ( to see ssh connection)\n",
    "\n",
    "## create ssh key\n",
    "shh-keygen -t ed25519 -C \"jay default\"\n",
    "t means type -- more secure key more than default\n",
    "-C means meta data \n",
    "- enter passphrase -- make it more secure\n",
    "\n",
    "\n",
    "\n",
    "\n"
   ]
  },
  {
   "cell_type": "markdown",
   "metadata": {},
   "source": [
    "## How to use this key to connect server \n",
    "\n",
    "-ssh-copy-id -i ~/ssh/id_ed25519.pub ipadress\n",
    "\n",
    "i means input file "
   ]
  },
  {
   "cell_type": "markdown",
   "metadata": {},
   "source": [
    "Create ssh key for ansible\n",
    "- ssh-keygen -t ed25519 -C \"ansible\"\n",
    "- be carefull over writing so change default save file name -/home/jay/.ssh/ansible\n",
    "\n",
    "Do that from wokrstation to server -ip is for server ip \n",
    "- shh-copy-id ~/.ssh/ansible.pub ip\n",
    "\n"
   ]
  }
 ],
 "metadata": {
  "language_info": {
   "name": "python"
  }
 },
 "nbformat": 4,
 "nbformat_minor": 2
}
