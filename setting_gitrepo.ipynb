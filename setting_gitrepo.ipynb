{
 "cells": [
  {
   "cell_type": "markdown",
   "metadata": {},
   "source": [
    "## Setting up a git repo\n"
   ]
  },
  {
   "cell_type": "markdown",
   "metadata": {},
   "source": [
    "Firstly ,to be sure we get install git use this:\n",
    "- which git\n",
    "  - /usr/bin/git\n",
    "- If it doesnt install\n",
    "  - sudo apt update \n",
    "  - sudo apt install git"
   ]
  }
 ],
 "metadata": {
  "language_info": {
   "name": "python"
  }
 },
 "nbformat": 4,
 "nbformat_minor": 2
}
